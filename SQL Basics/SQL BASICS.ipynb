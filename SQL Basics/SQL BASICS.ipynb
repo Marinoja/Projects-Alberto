{
 "cells": [
  {
   "cell_type": "markdown",
   "metadata": {},
   "source": [
    "#### Some commands for SQL"
   ]
  },
  {
   "cell_type": "markdown",
   "metadata": {},
   "source": [
    "Select Statement"
   ]
  },
  {
   "cell_type": "markdown",
   "metadata": {},
   "source": [
    "To run all the rows and columns we will only show the data selecting the data desired\n",
    "\n",
    "1. Lets imagine table 1\n",
    "\n",
    "SELECT * FROM Table1;\n",
    "\n",
    "In this case the command * will show all rows and all columns, and we are not specifying the values to select so it will show all\n",
    "\n",
    "\n",
    "2. Inside of the Table 1 lets imagine some columns col1 col2 ... col5\n",
    "\n",
    "SELECT col1, col2 FROM Table1;\n",
    "\n",
    "In this case we are only running specific columns inside the table\n",
    "\n",
    "\n",
    "3. lets imagine that col1 have years between 1990 and 2024\n",
    "\n",
    "SELECT col1, col2 FROM Table1 WHERE col1<2000\n",
    "\n",
    "In this case, it will show only the first 2 columns with values below the year 2000\n",
    "\n",
    "\n",
    "4. Especial code\n",
    "Different from python language in SQL we wont use != operator we will use instead <>:\n",
    "\n",
    "SELECT col1, col2 FROM Table1 WHERE col1<>2000    \n",
    "     \n",
    "in this case, it will bring all values different from the year 2000\n"
   ]
  },
  {
   "cell_type": "markdown",
   "metadata": {},
   "source": [
    "COUNT, DISTINCT, LIMIT"
   ]
  },
  {
   "cell_type": "markdown",
   "metadata": {},
   "source": [
    "1.\n",
    "SELECT COUNT(*) FROM Table 1\n",
    "\n",
    "In this case the count will bring back the number of records or rows in the table\n",
    "\n",
    "SELECT COUNT(col2) FROM Table1 WHERE col1 = 2010;\n",
    "\n",
    "In this case it will count all values in col2 that are in the year 2010\n",
    "\n",
    "\n",
    "\n",
    "2.\n",
    "SELECT DISTINCT Col2 FROM Table1;\n",
    "\n",
    "In this case we will remove all the duplicates in the col2\n",
    "\n",
    "3.\n",
    "we can mix all of the above\n",
    "\n",
    "SELECT COUNT(DISTINCT ReleaseYear) FROM Films WHERE ProductionCompany=\"Warner Bros\";\n",
    "\n",
    "In this case it will bring from the table Films the count of all of the values with the production name \"Warner Bros\" removing all the duplicates in the column releaseyear\n",
    "\n",
    "\n",
    "4. \n",
    "We can specify like in python when we bring command head(3) in this case we will be using the command limit\n",
    "\n",
    "Thus, SELECT * FROM Table1 LIMIT 20;\n",
    "\n",
    "We can also skip some values for the first rows, this way:\n",
    "\n",
    "SELECT * FROM Table1 LIMIT 20 OFFSET 10;\n",
    "\n",
    "This way we would be skipping the first 10 rows of data and bringing the next 20 \n"
   ]
  },
  {
   "cell_type": "markdown",
   "metadata": {},
   "source": [
    "INSERT, UPDATE AND DELETE"
   ]
  },
  {
   "cell_type": "markdown",
   "metadata": {},
   "source": [
    "To insert data into a table we will use the statement INSERT, is a DML (Data manipulation language statement) for reading and modifying data\n",
    "\n",
    "INSERT INTO [NAME OF THE TABLE]\n",
    "\n",
    "<([Columnname1],[Columname2]...)> VALUES ([Value1],[Value2],...)\n",
    "\n",
    "INSERT INTO Instructor(ins_id, lastname, firstname, city, country)\n",
    "VALUES(4, 'Saha', 'Sandip', 'Edmonton', 'CA');\n",
    "\n",
    "INSERT INTO Instructor(ins_id, lastname, firstname, city, country)\n",
    "VALUES(5, 'Doe', 'John', 'Sydney', 'AU'), (6, 'Doe', 'Jane', 'Dhaka', 'BD');\n",
    "\n",
    "\n",
    "\n",
    "UPDATE[[Tablename] SET[Columnname] = [Value]] > WHERE [Condition].\n",
    "\n",
    "UPDATE Instructor \n",
    "SET city='Markham' \n",
    "WHERE ins_id=1;\n",
    "\n",
    "UPDATE Instructor \n",
    "SET city='Dhaka', country='BD' \n",
    "WHERE ins_id=4;\n",
    "\n",
    "SELECT * FROM Instructor;\n",
    "\n",
    "\n",
    "DELETE FROM [Tablename]  WHERE [Condition].\n",
    "\n",
    "DELETE FROM instructor\n",
    "WHERE firstname = 'Hima';\n",
    "\n",
    "SELECT * FROM Instructor;"
   ]
  }
 ],
 "metadata": {
  "language_info": {
   "name": "python"
  }
 },
 "nbformat": 4,
 "nbformat_minor": 2
}
