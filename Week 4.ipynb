{
 "cells": [
  {
   "cell_type": "markdown",
   "metadata": {},
   "source": [
    "### Opening Files"
   ]
  },
  {
   "cell_type": "code",
   "execution_count": 3,
   "metadata": {},
   "outputs": [],
   "source": [
    "## Reading and Storing the Entire Content of a File Using the read method, you can retrieve the complete content of a file\n",
    "## and store it as a string in a variable for further processing or display.\n",
    "## Step 1: Open the file you want to read\n",
    "# with open('file.txt', 'r') as file:\n",
    "    ## Step 2: Use the read method to read the entire content of the file\n",
    "    # file_stuff = file.read()\n",
    "    ## Step 3: Now that the file content is stored in the variable 'file_stuff', you can manipulate or display it as needed.\n",
    "    ## For example, let's print the content to the console:\n",
    "    # print(file_stuff)\n",
    "# Step 4: The 'with' statement automatically closes the file when it's done,\n",
    "# ensuring proper resource management and preventing resource leaks."
   ]
  },
  {
   "cell_type": "code",
   "execution_count": 4,
   "metadata": {},
   "outputs": [],
   "source": [
    "# 1 Open Function for reading open(\"nameofthefile\",action read write or append)\n",
    "# 2 file.name to check if the file is already opened\n",
    "# 3 six type of mode for opening files read - r write w, a for appending mode\n",
    "# 4 is important to close the file at the end command close file.close() \n"
   ]
  },
  {
   "cell_type": "code",
   "execution_count": 5,
   "metadata": {},
   "outputs": [],
   "source": [
    "#the best way to open a file is with the command with, this will always close the document at the end\n",
    "# with open (\"nameofthefile\",action read write or append) as file1:\n",
    "                    #Filecontent = file1.read\n",
    "                    #print (Filecontent)\n",
    "                    \n",
    "#if you want to verify if the file is closed you can check command closed (different than close)\n",
    "# file1.closed\n",
    "\n",
    "# Even when the file is closed we already store the values in the variable filecontent, thus,\n",
    "# we can check the content print(filecontent)\n"
   ]
  },
  {
   "cell_type": "code",
   "execution_count": null,
   "metadata": {},
   "outputs": [],
   "source": [
    "#Finally if we would like to avoid problems while opening files we can use the try except method\n",
    "#Try:\n",
    "    #with open (name of file) as file:\n",
    "    #print (file)\n",
    "    \n",
    "# except (error in this case FileNotFoundError):\n",
    "    #print (message lets say \"file not found\")\n"
   ]
  },
  {
   "cell_type": "markdown",
   "metadata": {},
   "source": [
    "### Writing in files"
   ]
  },
  {
   "cell_type": "code",
   "execution_count": 6,
   "metadata": {},
   "outputs": [],
   "source": [
    "#we can write in existing files using loops\n",
    "# List of lines to write to the file\n",
    "Lines = [\"This is line 1\", \"This is line 2\", \"This is line 3\"]\n",
    "# Create a new file Example3.txt for writing\n",
    "#with open('Example3.txt', 'w') as file2:\n",
    "    #for line in Lines:\n",
    "        #file2.write(line + \"\\n\") #the //n will make a new line everytime the loop is executed\n",
    "    # file2 is automatically closed when the 'with' block exits"
   ]
  },
  {
   "cell_type": "code",
   "execution_count": 7,
   "metadata": {},
   "outputs": [],
   "source": [
    "# copying contents from  one file to another\n",
    "#with open('source.txt', 'r') as source_file:\n",
    "    # Open the destination file for writing\n",
    "    #with open('destination.txt', 'w') as destination_file:\n",
    "        # Read lines from the source file and copy them to the destination file\n",
    "        #for line in source_file:\n",
    "            #destination_file.write(line)\n",
    "    # Destination file is automatically closed when the 'with' block exits\n",
    "# Source file is automatically closed when the 'with' block exits"
   ]
  },
  {
   "cell_type": "markdown",
   "metadata": {},
   "source": [
    "### Appending content"
   ]
  },
  {
   "cell_type": "code",
   "execution_count": 8,
   "metadata": {},
   "outputs": [],
   "source": [
    "# Data to append to the existing file\n",
    "#new_data = \"This is line C\"\n",
    "# Open an existing file Example2.txt for appending\n",
    "#with open('Example2.txt', 'a') as file1:\n",
    "    #file1.write(new_data + \"\\n\")\n",
    "    # file1 is automatically closed when the 'with' block exits"
   ]
  },
  {
   "cell_type": "code",
   "execution_count": null,
   "metadata": {},
   "outputs": [],
   "source": []
  },
  {
   "cell_type": "markdown",
   "metadata": {},
   "source": [
    "### Pandas library"
   ]
  },
  {
   "cell_type": "code",
   "execution_count": 18,
   "metadata": {},
   "outputs": [
    {
     "name": "stdout",
     "output_type": "stream",
     "text": [
      "Requirement already satisfied: pandas in c:\\users\\marin\\appdata\\local\\programs\\python\\python312\\lib\\site-packages (2.2.3)\n",
      "Requirement already satisfied: numpy>=1.26.0 in c:\\users\\marin\\appdata\\local\\programs\\python\\python312\\lib\\site-packages (from pandas) (2.1.2)\n",
      "Requirement already satisfied: python-dateutil>=2.8.2 in c:\\users\\marin\\appdata\\roaming\\python\\python312\\site-packages (from pandas) (2.9.0.post0)\n",
      "Requirement already satisfied: pytz>=2020.1 in c:\\users\\marin\\appdata\\local\\programs\\python\\python312\\lib\\site-packages (from pandas) (2024.2)\n",
      "Requirement already satisfied: tzdata>=2022.7 in c:\\users\\marin\\appdata\\local\\programs\\python\\python312\\lib\\site-packages (from pandas) (2024.2)\n",
      "Requirement already satisfied: six>=1.5 in c:\\users\\marin\\appdata\\roaming\\python\\python312\\site-packages (from python-dateutil>=2.8.2->pandas) (1.16.0)\n"
     ]
    }
   ],
   "source": [
    "#!pip install pandas \n",
    "#you have to install the library first\n",
    "import pandas as pd #Panda is a common library"
   ]
  },
  {
   "cell_type": "code",
   "execution_count": 16,
   "metadata": {},
   "outputs": [
    {
     "name": "stdout",
     "output_type": "stream",
     "text": [
      "2.2.3\n"
     ]
    }
   ],
   "source": [
    "print(pd.__version__)"
   ]
  },
  {
   "cell_type": "code",
   "execution_count": 19,
   "metadata": {},
   "outputs": [],
   "source": [
    "#How to go from a CSV file (comma separated value) to a Dataframe (DF)\n",
    "# df = pd.read_csv(csv_path)\n",
    "# df.head()"
   ]
  },
  {
   "cell_type": "code",
   "execution_count": 21,
   "metadata": {},
   "outputs": [],
   "source": [
    "# you can create data frames using the function Pd.Dataframe(name of the dictionary dictionaries have rows and columns)\n",
    "# we can also create a new dataframe for an existing dataframe using the command df with double brackets like this/\n",
    "# x = df [[name of the column in previous df]]\n",
    "# we can do the same with as many columns as we want using commas to specify the different columns "
   ]
  },
  {
   "cell_type": "code",
   "execution_count": 22,
   "metadata": {},
   "outputs": [],
   "source": [
    "#we can use the command iloc to acces directly to the row and column, especifying the location of the data like this\n",
    "# df.iloc[0,1]: "
   ]
  },
  {
   "cell_type": "code",
   "execution_count": 23,
   "metadata": {},
   "outputs": [
    {
     "name": "stdout",
     "output_type": "stream",
     "text": [
      "Name            Bob\n",
      "Age              30\n",
      "City    Los Angeles\n",
      "Name: 1, dtype: object\n"
     ]
    }
   ],
   "source": [
    "data = {'Name': ['Alice', 'Bob', 'Charlie'], 'Age': [25, 30, 35], 'City': ['New York', 'Los Angeles', 'Chicago']}\n",
    "df = pd.DataFrame(data)\n",
    "\n",
    "# Select the first row\n",
    "firstsubject = df.iloc[1]\n",
    "print(firstsubject)\n"
   ]
  },
  {
   "cell_type": "code",
   "execution_count": 25,
   "metadata": {},
   "outputs": [
    {
     "name": "stdout",
     "output_type": "stream",
     "text": [
      "      Name  Age         City\n",
      "0    Alice   25     New York\n",
      "1      Bob   30  Los Angeles\n",
      "2  Charlie   35      Chicago\n"
     ]
    }
   ],
   "source": [
    "#lets print with more than one row\n",
    "multiplesubjects = df.iloc[:3] #we can use the colon and the number of rows wanted\n",
    "print(multiplesubjects)"
   ]
  },
  {
   "cell_type": "code",
   "execution_count": 32,
   "metadata": {},
   "outputs": [
    {
     "name": "stdout",
     "output_type": "stream",
     "text": [
      "25\n",
      "Bob\n"
     ]
    }
   ],
   "source": [
    "#we could print as well a mi of columns and rows\n",
    "mixcolrows = df.iloc[0,1]\n",
    "print(mixcolrows)\n",
    "\n",
    "mixcolrows2 = df.iloc[1,0]\n",
    "print(mixcolrows2)"
   ]
  },
  {
   "cell_type": "markdown",
   "metadata": {},
   "source": [
    "### Deeper Examples, using dataframes in Pandas, searching engines"
   ]
  },
  {
   "cell_type": "code",
   "execution_count": 43,
   "metadata": {},
   "outputs": [
    {
     "name": "stdout",
     "output_type": "stream",
     "text": [
      "      Name  Subject  Score\n",
      "0    Alice     Math     85\n",
      "1      Bob  Science     90\n",
      "2  Charlie      Art     78\n"
     ]
    }
   ],
   "source": [
    "#lets get a bit deep, what if we would like to search a value in the df\n",
    "import pandas as pd\n",
    "\n",
    "data = {\n",
    "    'Name': ['Alice', 'Bob', 'Charlie', 'David', 'Eve'],\n",
    "    'Subject': ['Math', 'Science', 'Art', 'History', 'Math'],\n",
    "    'Score': [85, 90, 78, 88, 95]\n",
    "}\n",
    "pd.DataFrame (data)\n",
    "\n",
    "sujetoaenc = \"Art\"\n",
    "\n",
    "#Bc we don´t want to look giving coordinates like [2,0] we need a loop to iterate until its founded,\n",
    "#for that we need to create a empty dataframe to store the results\n",
    "\n",
    "result_lista1 = []\n",
    "\n",
    "for i in range(len(df)):\n",
    "    result_lista1.append(df.iloc[i])\n",
    "    if df.iloc[i][\"Subject\"] == sujetoaenc:\n",
    "        break\n",
    "\n",
    "\n",
    "result = pd.DataFrame(result_lista1)\n",
    "print(result)\n",
    "\n"
   ]
  },
  {
   "cell_type": "code",
   "execution_count": 36,
   "metadata": {},
   "outputs": [
    {
     "name": "stdout",
     "output_type": "stream",
     "text": [
      "      Name  Subject  Score\n",
      "0    Alice     Math     85\n",
      "1      Bob  Science     90\n",
      "2  Charlie      Art     78\n",
      "3    David  History     88\n"
     ]
    }
   ],
   "source": [
    "import pandas as pd  # Import pandas library\n",
    "\n",
    "# Data creation: Creating a dictionary with some sample data\n",
    "data = {\n",
    "    'Name': ['Alice', 'Bob', 'Charlie', 'David', 'Eve'],\n",
    "    'Subject': ['Math', 'Science', 'Art', 'History', 'Math'],\n",
    "    'Score': [85, 90, 78, 88, 95]\n",
    "}\n",
    "df = pd.DataFrame(data)  # Converting the dictionary to a DataFrame\n",
    "\n",
    "# Variable to find a specific subject\n",
    "subject_to_find = 'History'\n",
    "\n",
    "# Initialize an empty list to store results\n",
    "result_list = []\n",
    "\n",
    "# Loop through each row in the DataFrame\n",
    "for i in range(len(df)):\n",
    "    # Append the current row to the result list\n",
    "    result_list.append(df.iloc[i])\n",
    "    # Check if the subject matches the target\n",
    "    if df.iloc[i]['Subject'] == subject_to_find:\n",
    "        break  # Exit the loop once the target subject is found\n",
    "\n",
    "# Convert the list of rows back to a DataFrame\n",
    "result = pd.DataFrame(result_list)\n",
    "\n",
    "# Display the result\n",
    "print(result)"
   ]
  },
  {
   "cell_type": "code",
   "execution_count": 44,
   "metadata": {},
   "outputs": [
    {
     "name": "stdout",
     "output_type": "stream",
     "text": [
      "Art\n"
     ]
    }
   ],
   "source": [
    "#for looking only the data\n",
    "\n",
    "# Data creation\n",
    "data = {\n",
    "    'Name': ['Alice', 'Bob', 'Charlie', 'David', 'Eve'],\n",
    "    'Subject': ['Math', 'Science', 'Art', 'History', 'Math'],\n",
    "    'Score': [85, 90, 78, 88, 95]\n",
    "}\n",
    "df = pd.DataFrame(data)  # Assign DataFrame to a variable\n",
    "\n",
    "# Variable to find a specific subject\n",
    "sujetoaenc = \"Art\"\n",
    "\n",
    "# Loop through each row in the DataFrame to find the specific value\n",
    "found_value = None\n",
    "for i in range(len(df)):\n",
    "    if df.iloc[i][\"Subject\"] == sujetoaenc:  # Check if the subject matches the target\n",
    "        found_value = df.iloc[i][\"Subject\"]  # Store the found value\n",
    "        break  # Exit the loop once the target subject is found\n",
    "\n",
    "# Print the found value\n",
    "print(found_value)\n"
   ]
  },
  {
   "cell_type": "code",
   "execution_count": 45,
   "metadata": {},
   "outputs": [
    {
     "name": "stdout",
     "output_type": "stream",
     "text": [
      "Name       Charlie\n",
      "Subject        Art\n",
      "Score           78\n",
      "Name: 2, dtype: object\n"
     ]
    }
   ],
   "source": [
    "# Example for looking the whole row not only the value\n",
    "\n",
    "# Data creation\n",
    "data = {\n",
    "    'Name': ['Alice', 'Bob', 'Charlie', 'David', 'Eve'],\n",
    "    'Subject': ['Math', 'Science', 'Art', 'History', 'Math'],\n",
    "    'Score': [85, 90, 78, 88, 95]\n",
    "}\n",
    "df = pd.DataFrame(data)  # Convert dictionary to DataFrame\n",
    "\n",
    "sujetoaenc = \"Art\"  # Subject to find\n",
    "\n",
    "# Initialize a variable to store the result row\n",
    "found_row = None\n",
    "\n",
    "# Loop through each row in the DataFrame\n",
    "for i in range(len(df)):\n",
    "    if df.iloc[i]['Subject'] == sujetoaenc:  # Check if the subject matches the target\n",
    "        found_row = df.iloc[i]  # Store the found row\n",
    "        break  # Exit the loop once the target subject is found\n",
    "\n",
    "# Print the found row\n",
    "print(found_row)\n"
   ]
  },
  {
   "cell_type": "code",
   "execution_count": 46,
   "metadata": {},
   "outputs": [
    {
     "name": "stdout",
     "output_type": "stream",
     "text": [
      "Name       Charlie\n",
      "Subject        Art\n",
      "Score           78\n",
      "Name: 2, dtype: object\n"
     ]
    }
   ],
   "source": [
    "#finally lets generate a Function more general that can help to look for different values in the future\n",
    "import pandas as pd\n",
    "\n",
    "def find_value(df, column, value):\n",
    "    \"\"\"\n",
    "    Function to find a value in a specified column of a DataFrame.\n",
    "    \n",
    "    Parameters:\n",
    "    df (DataFrame): The DataFrame to search in.\n",
    "    column (str): The column name to search within.\n",
    "    value (str): The value to search for.\n",
    "\n",
    "    Returns:\n",
    "    DataFrame: The row where the value is found.\n",
    "    \"\"\"\n",
    "    for i in range(len(df)):\n",
    "        if df.iloc[i][column] == value:\n",
    "            return df.iloc[i]\n",
    "    return None  # If value not found\n",
    "\n",
    "# Example usage:\n",
    "data = {\n",
    "    'Name': ['Alice', 'Bob', 'Charlie', 'David', 'Eve'],\n",
    "    'Subject': ['Math', 'Science', 'Art', 'History', 'Math'],\n",
    "    'Score': [85, 90, 78, 88, 95]\n",
    "}\n",
    "df = pd.DataFrame(data)\n",
    "\n",
    "result = find_value(df, 'Subject', 'Art')\n",
    "print(result)\n"
   ]
  },
  {
   "cell_type": "markdown",
   "metadata": {},
   "source": [
    "### Unique method Pandas - Inequality operators method"
   ]
  },
  {
   "cell_type": "code",
   "execution_count": 49,
   "metadata": {},
   "outputs": [
    {
     "name": "stdout",
     "output_type": "stream",
     "text": [
      "['Alice' 'Bob' 'Charlie']\n",
      "[85 90 78]\n",
      "['Math' 'Science' 'Art']\n",
      "\n",
      "0       Math\n",
      "1    Science\n",
      "2        Art\n",
      "3       Math\n",
      "4    Science\n",
      "Name: Subject, dtype: object\n"
     ]
    }
   ],
   "source": [
    "#We can use the method to identify unique values in a block of data\n",
    "\n",
    "data = {\n",
    "    'Name': ['Alice', 'Bob', 'Charlie', 'Alice', 'Bob'],\n",
    "    'Subject': ['Math', 'Science', 'Art', 'Math', 'Science'],\n",
    "    'Score': [85, 90, 78, 85, 90]\n",
    "}\n",
    "df = pd.DataFrame(data)\n",
    "\n",
    "# Get unique values in the 'Name' column\n",
    "unique_names = df['Name'].unique()\n",
    "print(unique_names)\n",
    "\n",
    "unique_score = df[\"Score\"].unique()\n",
    "print(unique_score)\n",
    "\n",
    "unique_subject = df[\"Subject\"].unique()\n",
    "print (unique_subject)\n",
    "\n",
    "print(\"\")\n",
    "print(df[\"Subject\"])\n"
   ]
  },
  {
   "cell_type": "code",
   "execution_count": null,
   "metadata": {},
   "outputs": [],
   "source": [
    "# Using inequality operators\n",
    "\n",
    "data = {'Name': ['Alice', 'Bob', 'Charlie', 'David', 'Eve'],\n",
    "        'Score': [85, 90, 78, 88, 95]}\n",
    "df = pd.DataFrame(data)\n",
    "\n",
    "# Select rows where Score is greater than 80\n",
    "result = df[df['Score'] > 80]\n",
    "print(result)\n"
   ]
  }
 ],
 "metadata": {
  "kernelspec": {
   "display_name": "Python 3",
   "language": "python",
   "name": "python3"
  },
  "language_info": {
   "codemirror_mode": {
    "name": "ipython",
    "version": 3
   },
   "file_extension": ".py",
   "mimetype": "text/x-python",
   "name": "python",
   "nbconvert_exporter": "python",
   "pygments_lexer": "ipython3",
   "version": "3.12.6"
  }
 },
 "nbformat": 4,
 "nbformat_minor": 2
}
