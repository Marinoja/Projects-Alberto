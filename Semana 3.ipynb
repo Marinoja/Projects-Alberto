{
 "cells": [
  {
   "cell_type": "code",
   "execution_count": 3,
   "metadata": {},
   "outputs": [
    {
     "name": "stdout",
     "output_type": "stream",
     "text": [
      "my name is albert this is my document for learning codding no.3\n"
     ]
    }
   ],
   "source": [
    "print (\"my name is albert this is my document for learning codding no.3\")"
   ]
  },
  {
   "cell_type": "markdown",
   "metadata": {},
   "source": [
    "### Lets define  what a scope is\n",
    "A escope is the grade or the range of action of one variable"
   ]
  },
  {
   "cell_type": "markdown",
   "metadata": {},
   "source": [
    "## FUNCTIONS"
   ]
  },
  {
   "cell_type": "markdown",
   "metadata": {},
   "source": [
    "### FUNCTIONS 1 PARAMETER"
   ]
  },
  {
   "cell_type": "code",
   "execution_count": 158,
   "metadata": {},
   "outputs": [],
   "source": [
    "def Addingv(x):\n",
    "    x=x+\"alue\"\n",
    "    print(x)\n",
    "    return(x)#in this case there is no x value define, thats why the result wont appear"
   ]
  },
  {
   "cell_type": "code",
   "execution_count": 106,
   "metadata": {},
   "outputs": [
    {
     "name": "stdout",
     "output_type": "stream",
     "text": [
      "v-alue\n"
     ]
    }
   ],
   "source": [
    "x=\"v-\" #this is a global value\n",
    "z=Addingv(x)"
   ]
  },
  {
   "cell_type": "code",
   "execution_count": 107,
   "metadata": {},
   "outputs": [],
   "source": [
    "def sumando1(y):\n",
    "    b=y+1\n",
    "    print (b)"
   ]
  },
  {
   "cell_type": "code",
   "execution_count": 108,
   "metadata": {},
   "outputs": [
    {
     "name": "stdout",
     "output_type": "stream",
     "text": [
      "9\n"
     ]
    }
   ],
   "source": [
    "z=sumando1(8) #este ultimo valor es el valor del input, the result depends of the function given in the previous code"
   ]
  },
  {
   "cell_type": "code",
   "execution_count": 109,
   "metadata": {},
   "outputs": [
    {
     "name": "stdout",
     "output_type": "stream",
     "text": [
      "10\n"
     ]
    }
   ],
   "source": [
    "sumando1(9)#we dont need to define a new variable to have a result with the function"
   ]
  },
  {
   "cell_type": "code",
   "execution_count": 110,
   "metadata": {},
   "outputs": [
    {
     "name": "stdout",
     "output_type": "stream",
     "text": [
      "1982\n"
     ]
    }
   ],
   "source": [
    "def thriller():\n",
    "    date=1982\n",
    "    return (date)#this is a local variable, as you can see if you try to look for this in the data date wont appear\n",
    "print (thriller())"
   ]
  },
  {
   "cell_type": "code",
   "execution_count": 5,
   "metadata": {},
   "outputs": [],
   "source": [
    "# print (date) #this will result in error, because the variable date is only included as a local variable in the previous function"
   ]
  },
  {
   "cell_type": "code",
   "execution_count": 112,
   "metadata": {},
   "outputs": [
    {
     "name": "stdout",
     "output_type": "stream",
     "text": [
      "1998\n"
     ]
    }
   ],
   "source": [
    "#what if we define now the variable date even when is 1982 defined\n",
    "date = 1998\n",
    "print (date)#result will be 1998"
   ]
  },
  {
   "cell_type": "code",
   "execution_count": 113,
   "metadata": {},
   "outputs": [],
   "source": [
    "def ACDC(Y):\n",
    "    rating = 9\n",
    "    print(rating)\n",
    "    return (rating + Y)"
   ]
  },
  {
   "cell_type": "code",
   "execution_count": 114,
   "metadata": {},
   "outputs": [
    {
     "name": "stdout",
     "output_type": "stream",
     "text": [
      "9\n"
     ]
    },
    {
     "data": {
      "text/plain": [
       "13"
      ]
     },
     "execution_count": 114,
     "metadata": {},
     "output_type": "execute_result"
    }
   ],
   "source": [
    "ACDC(4) #we defined rating in the function as 9, so in this case it will add the value y as the way we defined and add to the value that we are giving"
   ]
  },
  {
   "cell_type": "markdown",
   "metadata": {},
   "source": [
    "### what if we would like to make a function with more than one parameter"
   ]
  },
  {
   "cell_type": "code",
   "execution_count": 115,
   "metadata": {},
   "outputs": [],
   "source": [
    "#lets imagine this function is for calculating a total evaluation where each value weights 33%\n",
    "def KPI1(a,b,c):\n",
    "    parameter = (a*0.33)+(b*0.33)+(c*0.33)\n",
    "    return (print(\"este valor sera\" ,parameter))"
   ]
  },
  {
   "cell_type": "code",
   "execution_count": 116,
   "metadata": {},
   "outputs": [
    {
     "name": "stdout",
     "output_type": "stream",
     "text": [
      "este valor sera 8.25\n"
     ]
    }
   ],
   "source": [
    "KPI1(9,9,7)"
   ]
  },
  {
   "cell_type": "code",
   "execution_count": 117,
   "metadata": {},
   "outputs": [
    {
     "name": "stdout",
     "output_type": "stream",
     "text": [
      "hello,  Alberto\n"
     ]
    }
   ],
   "source": [
    "def greet(name):\n",
    "    print(\"hello, \", name)\n",
    "    \n",
    "greet(\"Alberto\")\n",
    "    "
   ]
  },
  {
   "cell_type": "code",
   "execution_count": 118,
   "metadata": {},
   "outputs": [
    {
     "name": "stdout",
     "output_type": "stream",
     "text": [
      "hello,  alberto\n",
      "None\n",
      "hello,  alberto\n",
      "None\n",
      "hello,  alberto\n",
      "None\n",
      "hello,  alberto\n",
      "None\n"
     ]
    }
   ],
   "source": [
    "for j in range(4):\n",
    "    print(greet(\"alberto\"))"
   ]
  },
  {
   "cell_type": "code",
   "execution_count": 119,
   "metadata": {},
   "outputs": [],
   "source": [
    "def imprimiendonumeros(limit):\n",
    "    for i in range(1,limit+1):\n",
    "        print(i)"
   ]
  },
  {
   "cell_type": "code",
   "execution_count": 120,
   "metadata": {},
   "outputs": [
    {
     "name": "stdout",
     "output_type": "stream",
     "text": [
      "1\n",
      "2\n"
     ]
    }
   ],
   "source": [
    "imprimiendonumeros(2)                   #remember that the value given as a limit will be starting from 0 in the function range so as limit +1 we spect to have 3\n",
    "#but if you start counting positions then (1,3) there are only 2 positions in this case"
   ]
  },
  {
   "cell_type": "markdown",
   "metadata": {},
   "source": [
    "### Adding, removing values to lists with functions"
   ]
  },
  {
   "cell_type": "code",
   "execution_count": 143,
   "metadata": {},
   "outputs": [],
   "source": [
    "#Lets define a empty list\n",
    "list1 = []  #remember lists are between [] and tuples () list are changeable while tuple are not mutable"
   ]
  },
  {
   "cell_type": "code",
   "execution_count": 144,
   "metadata": {},
   "outputs": [
    {
     "name": "stdout",
     "output_type": "stream",
     "text": [
      "[(1, 2, 3)]\n"
     ]
    }
   ],
   "source": [
    "#function for adding a value tu a list\n",
    "def addingvalue (data_structure, element):\n",
    "    data_structure.append(element)\n",
    "addingvalue(list1,(1,2,3))\n",
    "print(list1)"
   ]
  },
  {
   "cell_type": "code",
   "execution_count": 151,
   "metadata": {},
   "outputs": [
    {
     "name": "stdout",
     "output_type": "stream",
     "text": [
      "element not found\n",
      "Upated list [(1, 2, 3)]\n"
     ]
    }
   ],
   "source": [
    "def removingvalue(data_estructure,element):\n",
    "    if element in data_estructure:\n",
    "        data_estructure.remove(element)\n",
    "    else:\n",
    "        print(\"element not found\")\n",
    "    \n",
    "removingvalue(list1,(1))\n",
    "print (\"Upated list\",list1)"
   ]
  },
  {
   "cell_type": "code",
   "execution_count": 152,
   "metadata": {},
   "outputs": [
    {
     "data": {
      "text/plain": [
       "3"
      ]
     },
     "execution_count": 152,
     "metadata": {},
     "output_type": "execute_result"
    }
   ],
   "source": [
    "len([\"a\",\"b\",1])"
   ]
  },
  {
   "cell_type": "code",
   "execution_count": null,
   "metadata": {},
   "outputs": [],
   "source": []
  },
  {
   "cell_type": "markdown",
   "metadata": {},
   "source": [
    "## EXCEPTION HANDLING"
   ]
  },
  {
   "cell_type": "code",
   "execution_count": 155,
   "metadata": {},
   "outputs": [
    {
     "name": "stdout",
     "output_type": "stream",
     "text": [
      "you cant make divisions by zero\n"
     ]
    }
   ],
   "source": [
    "#try except statement lets try with the example of dividing numbers by 0 which is not possible \n",
    "num1= 11\n",
    "num2= 0\n",
    "\n",
    "#num1/num2 this will bring 0 division error\n",
    "\n",
    "try:\n",
    "    num1/num2\n",
    "except Exception:\n",
    "    print(\"you cant make divisions by zero\")\n"
   ]
  },
  {
   "cell_type": "code",
   "execution_count": 156,
   "metadata": {},
   "outputs": [],
   "source": [
    "## you can also use else and finally commands, finally will always excute an else in case we want to add new orders to the program"
   ]
  },
  {
   "cell_type": "code",
   "execution_count": 157,
   "metadata": {},
   "outputs": [
    {
     "name": "stdout",
     "output_type": "stream",
     "text": [
      "you cant make divisions by zero\n",
      "no matter the result ill be printed\n"
     ]
    }
   ],
   "source": [
    "#try except statement lets try with the example of dividing numbers by 0 which is not possible \n",
    "num1= 11\n",
    "num2= 0\n",
    "\n",
    "#num1/num2 this will bring 0 division error\n",
    "\n",
    "try:\n",
    "    num1/num2\n",
    "except Exception:\n",
    "    print(\"you cant make divisions by zero\")\n",
    "finally:\n",
    "    print(\"no matter the result ill be printed\")\n"
   ]
  },
  {
   "cell_type": "markdown",
   "metadata": {},
   "source": [
    "## OBJECT AND CLASSES"
   ]
  },
  {
   "cell_type": "markdown",
   "metadata": {},
   "source": [
    "##### resume"
   ]
  },
  {
   "cell_type": "markdown",
   "metadata": {},
   "source": [
    "The __init__ method is a special method known as the constructor.\n",
    "\n",
    "It initializes the instance attributes (also called instance variables) when an object is created.\n",
    "\n",
    "The self parameter is the first parameter of the constructor, referring to the instance being created.\n",
    "\n",
    "attribute1, attribute2, and so on are parameters passed to the constructor when creating an object.\n",
    "\n",
    "Inside the constructor, self.attribute1, self.attribute2, and so on are used to assign values to instance attributes"
   ]
  },
  {
   "cell_type": "code",
   "execution_count": 30,
   "metadata": {},
   "outputs": [],
   "source": [
    "#class ClassName:\n",
    "    # Class attributes (shared by all instances)\n",
    "    # class_attribute = value\n",
    "    # Constructor method (initialize instance attributes)\n",
    "    # def __init__(self, attribute1, attribute2, others):"
   ]
  },
  {
   "cell_type": "code",
   "execution_count": 9,
   "metadata": {},
   "outputs": [],
   "source": [
    "# Creating a class\n",
    "class Circle(object): #alwats use command class to create a new class, later you will give the name of the class that you would like to create and finally command object\n",
    "    def __init__(self, radius, color): #init is a function that tells python that you are creating a new class\n",
    "        self.radius = radius\n",
    "        self.color = color"
   ]
  },
  {
   "cell_type": "code",
   "execution_count": 7,
   "metadata": {},
   "outputs": [],
   "source": [
    "class Rectangle:\n",
    "    def __init__(self, color, height, width):\n",
    "        self.height = height\n",
    "        self.width = width\n",
    "        self.color= color"
   ]
  },
  {
   "cell_type": "code",
   "execution_count": 11,
   "metadata": {},
   "outputs": [],
   "source": [
    "#creating a object of a class, every class can have many different type of objects\n",
    "RedCircle = Circle(10,\"red\") #this is part of giving attributes to the data\n"
   ]
  },
  {
   "cell_type": "code",
   "execution_count": null,
   "metadata": {},
   "outputs": [],
   "source": [
    "#Methods are functions that interact and change atributes of the data"
   ]
  },
  {
   "cell_type": "code",
   "execution_count": 12,
   "metadata": {},
   "outputs": [],
   "source": [
    "class Rectangle:\n",
    "    def __init__(self, color, height, width):\n",
    "        self.height = height\n",
    "        self.width = width\n",
    "        self.color= color\n",
    "    def add_height(self,r):\n",
    "        self.height =self.height+r"
   ]
  },
  {
   "cell_type": "code",
   "execution_count": 16,
   "metadata": {},
   "outputs": [
    {
     "name": "stdout",
     "output_type": "stream",
     "text": [
      "4\n"
     ]
    }
   ],
   "source": [
    "BlueRectangle = Rectangle(\"blue\",3,2)\n",
    "BlueRectangle.add_height(1)\n",
    "print(BlueRectangle.height)"
   ]
  },
  {
   "cell_type": "code",
   "execution_count": 105,
   "metadata": {},
   "outputs": [],
   "source": [
    "#dir(BlueRectangle) #dir is a code that allow you to see al attributes of a object (run if wanted remove first #)"
   ]
  },
  {
   "cell_type": "code",
   "execution_count": 106,
   "metadata": {},
   "outputs": [],
   "source": [
    "#lets print our objects in the class rectangle\n",
    "import matplotlib.pyplot as plt "
   ]
  },
  {
   "cell_type": "code",
   "execution_count": 133,
   "metadata": {},
   "outputs": [],
   "source": [
    "class Vehicles():\n",
    "    def __init__(self,Maxspeed,Mileage):\n",
    "        self.maxspeed=Maxspeed\n",
    "        self.Mileage=Mileage\n",
    "        \n",
    "#updating the class for only one color\n",
    "class Vehicle():\n",
    "    color = \"white\"\n",
    "    \n",
    "    def __init__(self,maxspeed,mileage):\n",
    "        self.maxspeed= maxspeed,\"kph\"\n",
    "        self.mileage= mileage\n",
    "        \n",
    "#assign seating capacity \n",
    "    def seatingcap(self,seatingcap ):\n",
    "        self.seatingcap= seatingcap\n",
    "        \n",
    "#printing all the objects\n",
    "    def displayproperties(self):\n",
    "        print(\"the properties of the care are:\")\n",
    "        print(\"Color\",self.color)\n",
    "        print(\"maxspeed:\",self.maxspeed)\n",
    "        print(\"mileage:\",self.mileage)\n",
    "        print(\"seats:\",self.seatingcap)"
   ]
  },
  {
   "cell_type": "code",
   "execution_count": 131,
   "metadata": {},
   "outputs": [
    {
     "name": "stdout",
     "output_type": "stream",
     "text": [
      "the properties of the care are:\n",
      "Color white\n",
      "maxspeed: (200, 'kph')\n",
      "mileage: 20kmpl\n",
      "seats: 5\n",
      "the properties of the care are:\n",
      "Color white\n",
      "maxspeed: (180, 'kph')\n",
      "mileage: 25kmpl\n",
      "seats: 4\n"
     ]
    }
   ],
   "source": [
    "Car1 = Vehicle(200,\"20kmpl\")\n",
    "Car1.seatingcap(5)\n",
    "Car1.displayproperties()\n",
    "\n",
    "Car2 = Vehicle(180,\"25kmpl\")\n",
    "Car2.seatingcap(4)\n",
    "Car2.displayproperties()\n"
   ]
  },
  {
   "cell_type": "markdown",
   "metadata": {},
   "source": [
    "##### INHERITANCES\n",
    "What if we would like to use the attributes of one class for another, reducing the time of coding"
   ]
  },
  {
   "cell_type": "code",
   "execution_count": 140,
   "metadata": {},
   "outputs": [],
   "source": [
    "class Dog(object):\n",
    "    def __init__(self, name, age, nickname):\n",
    "        self.name =name\n",
    "        self.age= age\n",
    "        self.nickname =nickname\n",
    "        \n",
    "    def speak(self):\n",
    "        print (\"my name is\",self.name,\"i am\",self.age, \"years old\",\"and everyone used to call me\",self.nickname)\n",
    "        \n",
    "    def talk(self):\n",
    "        print(\"bark\")"
   ]
  },
  {
   "cell_type": "code",
   "execution_count": 45,
   "metadata": {},
   "outputs": [
    {
     "name": "stdout",
     "output_type": "stream",
     "text": [
      "my name is Abril i am 13 years old and everyone used to call me Abi\n",
      "bark\n"
     ]
    }
   ],
   "source": [
    "Abril = Dog(\"Abril\",13,\"Abi\")\n",
    "Abril.speak()\n",
    "Abril.talk()"
   ]
  },
  {
   "cell_type": "code",
   "execution_count": 49,
   "metadata": {},
   "outputs": [],
   "source": [
    "#we can use the attributes of another class to create a new one\n",
    "class Parrot(Dog): #in this case we specify in the object the class dog to brin to new class\n",
    "    def __init__(self,name,age,nickname,color): #comparing with previous this will have a new attribute, color\n",
    "        super().__init__(name,age,nickname) #the command super.__init__ is used for bringing those actions in common attributes\n",
    "        self.color=color #this is a new at so we have to assign the value\n",
    "    \n",
    "    def talk(self):\n",
    "        print(\"Freeeeeedy\") #we can make changes in the methods, parrots doesnt bark, at least not mine"
   ]
  },
  {
   "cell_type": "code",
   "execution_count": 50,
   "metadata": {},
   "outputs": [
    {
     "name": "stdout",
     "output_type": "stream",
     "text": [
      "my name is Fredy i am nobody knows years old and everyone used to call me lorito\n",
      "Freeeeeedy\n"
     ]
    }
   ],
   "source": [
    "Fredy = Parrot(\"Fredy\",\"nobody knows\",\"lorito\",\"green\")\n",
    "Fredy.speak()\n",
    "Fredy.talk()"
   ]
  },
  {
   "cell_type": "markdown",
   "metadata": {},
   "source": [
    "##### Overrading methods\n",
    "some operations with classes"
   ]
  },
  {
   "cell_type": "code",
   "execution_count": 52,
   "metadata": {},
   "outputs": [],
   "source": [
    "class point(object):\n",
    "    def __init__ (self,x,y):\n",
    "    \n",
    "        self.x=x\n",
    "        self.y=y \n"
   ]
  },
  {
   "cell_type": "code",
   "execution_count": 67,
   "metadata": {},
   "outputs": [],
   "source": [
    "p1= Point(2,1)\n",
    "p2= Point(3,2)\n",
    "#if we try to add this points here will result in an error, because python doesnt make operations with created classes, for that you will have to add more methods"
   ]
  },
  {
   "cell_type": "code",
   "execution_count": 92,
   "metadata": {},
   "outputs": [],
   "source": [
    "#thus,\n",
    "class Point(object):\n",
    "    def __init__ (self,x,y):\n",
    "    \n",
    "        self.x=x\n",
    "        self.y=y \n",
    "    \n",
    "    def __add__ (self,other_value):\n",
    "        if isinstance(other_value,Point): #in this case the command isinstance will reduce the error, in case we are adding a point that is not a point will not execute\n",
    "            return Point(self.x+other_value.x,self.y+other_value.y)\n",
    "        return NotImplemented\n",
    "    "
   ]
  },
  {
   "cell_type": "code",
   "execution_count": 96,
   "metadata": {},
   "outputs": [
    {
     "name": "stdout",
     "output_type": "stream",
     "text": [
      "<class '__main__.Point'>\n",
      "<class '__main__.Point'>\n",
      "<__main__.Point object at 0x000001DDD5A80500>\n"
     ]
    }
   ],
   "source": [
    "#lets try now\n",
    "print(type(p1))\n",
    "print(type(p2))\n",
    "p1= Point(2,1)\n",
    "p2= Point(3,2)\n",
    "p3=p1+p2 #this will show us the location, but as a class we are the only one who know what are we using, for python is just a random name\n",
    "print(p3)"
   ]
  },
  {
   "cell_type": "code",
   "execution_count": 100,
   "metadata": {},
   "outputs": [],
   "source": [
    "#that´s why, we have to convert our point object into a string\n",
    "class Point(object):\n",
    "    def __init__ (self,x,y):\n",
    "    \n",
    "        self.x=x\n",
    "        self.y=y \n",
    "    \n",
    "    def __add__ (self,other_value):\n",
    "        if isinstance(other_value,Point):\n",
    "            return Point(self.x+other_value.x,self.y+other_value.y)\n",
    "        return NotImplemented\n",
    "    \n",
    "    def __str__(self):\n",
    "        return f\"Point({self.x},{self.y})\" #can be written as return \"(\"+str(self.x)+str(self.y)+\")\""
   ]
  },
  {
   "cell_type": "code",
   "execution_count": 99,
   "metadata": {},
   "outputs": [
    {
     "name": "stdout",
     "output_type": "stream",
     "text": [
      "Point(5,3)\n"
     ]
    }
   ],
   "source": [
    "p1= Point(2,1)\n",
    "p2= Point(3,2)\n",
    "p4=p1+p2\n",
    "print(p4)"
   ]
  },
  {
   "cell_type": "markdown",
   "metadata": {},
   "source": [
    "##### Comparison of methods"
   ]
  },
  {
   "cell_type": "code",
   "execution_count": 104,
   "metadata": {},
   "outputs": [
    {
     "name": "stdout",
     "output_type": "stream",
     "text": [
      "False\n"
     ]
    }
   ],
   "source": [
    "#comparing methods\n",
    "class Point():\n",
    "    def __init__(self, x=0, y=0):\n",
    "        self.x = x\n",
    "        self.y = y\n",
    "        self.coords = (self.x, self.y)\n",
    "\n",
    "    def move(self, x, y):\n",
    "        self.x += x\n",
    "        self.y += y\n",
    "\n",
    "    def length(self):\n",
    "        import math\n",
    "        \n",
    "        return math.sqrt(self.x ** 2 + self.y**2)\n",
    "\n",
    "    def __gt__(self, other):  # greater than\n",
    "        return self.length() > other.length()\n",
    "\n",
    "    def __ge__(self, other):  # greater than or equal to\n",
    "        return self.length() >= other.length()\n",
    "        \n",
    "    def __lt__(self, other):  # less than\n",
    "        return self.length() < other.length()\n",
    "\n",
    "    def __le__(self, other):  # less than or equal to\n",
    "        return self.length() <= other.length()\n",
    "\n",
    "\n",
    "# We are going to compare points based on their lengths\n",
    "    \n",
    "\n",
    "p1 = Point(3, 4)\n",
    "p2 = Point(3, 2)\n",
    "p3 = Point(1, 3)\n",
    "p4 = Point(0, 1)\n",
    "\n",
    "isLess = p1 <= p2  # This is False\n",
    "print(isLess)"
   ]
  },
  {
   "cell_type": "markdown",
   "metadata": {},
   "source": [
    "#### Text analyzer"
   ]
  },
  {
   "cell_type": "code",
   "execution_count": 136,
   "metadata": {},
   "outputs": [],
   "source": [
    "class textanalyzer():\n",
    "    \n",
    "    def __init__ (self,text):\n",
    "        #remove punctuation\n",
    "        formattedtext = text.replace(\".\",\"\").replace(\",\",\"\").replace(\"!\",\"\").replace(\"?\",\"\")\n",
    "    \n",
    "        #make text lowercase\n",
    "        formattedtext = formattedtext.lower() #in this case the program will take the previous value in the first method and apply a new method\n",
    "    \n",
    "        self.fmttext = formattedtext"
   ]
  },
  {
   "cell_type": "code",
   "execution_count": 139,
   "metadata": {},
   "outputs": [
    {
     "name": "stdout",
     "output_type": "stream",
     "text": [
      "<__main__.textanalyzer object at 0x000001DDD82B2CF0>\n",
      "hello pepper welcome to my python programming\n"
     ]
    }
   ],
   "source": [
    "#Lets try if the code is correct\n",
    "Text1 = textanalyzer(\"Hello, Pepper! Welcome to my Python programming.\")\n",
    "print(Text1)\n",
    "\n",
    "#as we show before without a method that show the result python will only show the object\n",
    "print(Text1.fmttext)"
   ]
  },
  {
   "cell_type": "code",
   "execution_count": 145,
   "metadata": {},
   "outputs": [],
   "source": [
    "class textanalyzer():\n",
    "    \n",
    "    def __init__ (self,text):\n",
    "        #remove punctuation\n",
    "        formattedtext = text.replace(\".\",\"\").replace(\",\",\"\").replace(\"!\",\"\").replace(\"?\",\"\")\n",
    "    \n",
    "        #make text lowercase\n",
    "        formattedtext = formattedtext.lower() #in this case the program will take the previous value in the first method and apply a new method\n",
    "    \n",
    "        self.fmttext = formattedtext\n",
    "        \n",
    "    #now lets make this with a engine that count the frequency of the words\n",
    "    def freqAll (self):\n",
    "        #split the text into words\n",
    "        wordlist = self.fmttext.split()\n",
    "        \n",
    "        #create dictionary to store the frequency of the words\n",
    "        freqmap = {}\n",
    "        for word in set(wordlist):\n",
    "            freqmap[word] =wordlist.count(word)\n",
    "            \n",
    "        return freqmap"
   ]
  },
  {
   "cell_type": "code",
   "execution_count": 149,
   "metadata": {},
   "outputs": [
    {
     "name": "stdout",
     "output_type": "stream",
     "text": [
      "{'essential': 1, 'key': 1, 'innovation': 1, 'data': 5, 'the': 2, 'in': 1, 'drives': 1, 'for': 1, 'new': 1, 'decision-making': 1, 'world': 1, 'analysis': 1, 'is': 3, 'of': 1, 'oil': 1}\n"
     ]
    }
   ],
   "source": [
    "text2= textanalyzer(\"Data is the new oil. Data drives innovation. Data is essential for decision-making. \"\n",
    "        \"In the world of data, data analysis is key.\")\n",
    "\n",
    "print(text2.freqAll())\n"
   ]
  },
  {
   "cell_type": "code",
   "execution_count": 154,
   "metadata": {},
   "outputs": [],
   "source": [
    "# for the last engine lets add something that allow us to analyze only one word\n",
    "class textanalyzer():\n",
    "    \n",
    "    def __init__ (self,text):\n",
    "        #remove punctuation\n",
    "        formattedtext = text.replace(\".\",\"\").replace(\",\",\"\").replace(\"!\",\"\").replace(\"?\",\"\")\n",
    "    \n",
    "        #make text lowercase\n",
    "        formattedtext = formattedtext.lower() #in this case the program will take the previous value in the first method and apply a new method\n",
    "    \n",
    "        self.fmttext = formattedtext\n",
    "        \n",
    "    #now lets make this with a engine that count the frequency of the words\n",
    "    def freqAll (self):\n",
    "        #split the text into words\n",
    "        wordlist = self.fmttext.split()\n",
    "        \n",
    "        #create dictionary to store the frequency of the words\n",
    "        freqmap = {}\n",
    "        for word in set(wordlist):\n",
    "            freqmap[word] =wordlist.count(word)\n",
    "            \n",
    "        return freqmap\n",
    "    \n",
    "    def freqOf(self,word):\n",
    "        #get frequency map\n",
    "        freqdict = self.freqAll()\n",
    "        \n",
    "        if word in freqdict:\n",
    "            return freqdict[word]\n",
    "        \n",
    "        else:\n",
    "            return 0\n",
    "    "
   ]
  },
  {
   "cell_type": "code",
   "execution_count": 156,
   "metadata": {},
   "outputs": [
    {
     "name": "stdout",
     "output_type": "stream",
     "text": [
      "{'essential': 1, 'key': 1, 'innovation': 1, 'data': 5, 'the': 2, 'in': 1, 'drives': 1, 'for': 1, 'new': 1, 'decision-making': 1, 'world': 1, 'analysis': 1, 'is': 3, 'of': 1, 'oil': 1}\n",
      "5\n"
     ]
    }
   ],
   "source": [
    "text2= textanalyzer(\"Data is the new oil. Data drives innovation. Data is essential for decision-making. \"\n",
    "        \"In the world of data, data analysis is key.\")\n",
    "\n",
    "print(text2.freqAll())\n",
    "\n",
    "print(text2.freqOf(\"data\"))"
   ]
  },
  {
   "cell_type": "code",
   "execution_count": null,
   "metadata": {},
   "outputs": [],
   "source": []
  }
 ],
 "metadata": {
  "kernelspec": {
   "display_name": "Python 3",
   "language": "python",
   "name": "python3"
  },
  "language_info": {
   "codemirror_mode": {
    "name": "ipython",
    "version": 3
   },
   "file_extension": ".py",
   "mimetype": "text/x-python",
   "name": "python",
   "nbconvert_exporter": "python",
   "pygments_lexer": "ipython3",
   "version": "3.12.6"
  }
 },
 "nbformat": 4,
 "nbformat_minor": 2
}
